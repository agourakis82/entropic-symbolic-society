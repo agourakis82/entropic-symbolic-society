{
 "cells": [
  {
   "cell_type": "markdown",
   "id": "5a73d475",
   "metadata": {},
   "source": [
    "# SWOW Graph Analysis\n",
    "This notebook loads the SWOW (Small World of Words) directed graph and performs basic network analysis, including:\n",
    "- Node and edge counts\n",
    "- Graph density\n",
    "- Degree distribution\n",
    "- Largest strongly connected component (SCC)\n",
    "- Log-scale histogram of degree distribution\n",
    "\n",
    "This notebook is part of the `Symbolic Manifolds and Entropic Dynamics` project.\n"
   ]
  },
  {
   "cell_type": "code",
   "execution_count": 4,
   "id": "2493d81d",
   "metadata": {},
   "outputs": [],
   "source": [
    "import networkx as nx\n",
    "import matplotlib.pyplot as plt\n",
    "import pathlib\n",
    "import pickle\n",
    "import os\n",
    "\n",
    "# --- Robust path resolution ---\n",
    "# Try to locate the correct root path for the project\n",
    "possible_roots = [\n",
    "    pathlib.Path(\".\").resolve(),\n",
    "    pathlib.Path(\"../\").resolve(),\n",
    "    pathlib.Path(\"../../\").resolve(),\n",
    "    pathlib.Path(\"~/Library/Mobile Documents/com~apple~CloudDocs/Biologia Fractal/entropic-symbolic-society\").expanduser()\n",
    "]\n",
    "\n",
    "found = False\n",
    "for root in possible_roots:\n",
    "    candidate = root / \"NHB_Symbolic_Mainfold/data/swow_graph.gpickle\"\n",
    "    if candidate.exists():\n",
    "        graph_path = candidate\n",
    "        found = True\n",
    "        break\n",
    "\n",
    "if not found:\n",
    "    raise FileNotFoundError(\"Could not locate swow_graph.gpickle in expected paths.\")\n",
    "\n",
    "# Output path\n",
    "out_path = graph_path.parent.parent / \"figs\"\n",
    "out_path.mkdir(parents=True, exist_ok=True)\n",
    "\n",
    "# Load graph\n",
    "with open(graph_path, \"rb\") as f:\n",
    "    G = pickle.load(f)\n"
   ]
  },
  {
   "cell_type": "code",
   "execution_count": 5,
   "id": "8d3287d2",
   "metadata": {},
   "outputs": [
    {
     "name": "stdout",
     "output_type": "stream",
     "text": [
      "✅ Graph loaded: 162446 nodes, 1534384 edges.\n"
     ]
    }
   ],
   "source": [
    "with open(graph_path, \"rb\") as f:\n",
    "    G = pickle.load(f)\n",
    "print(f\"✅ Graph loaded: {G.number_of_nodes()} nodes, {G.number_of_edges()} edges.\")\n"
   ]
  },
  {
   "cell_type": "code",
   "execution_count": 6,
   "id": "8f950f44",
   "metadata": {},
   "outputs": [
    {
     "name": "stdout",
     "output_type": "stream",
     "text": [
      "Nodes: 162446, Edges: 1534384\n",
      "Density: 0.000058\n",
      "Average degree: 18.89\n",
      "Largest SCC size: 12219\n"
     ]
    }
   ],
   "source": [
    "num_nodes = G.number_of_nodes()\n",
    "num_edges = G.number_of_edges()\n",
    "density = nx.density(G)\n",
    "avg_degree = sum(dict(G.degree()).values()) / num_nodes\n",
    "largest_scc = max(nx.strongly_connected_components(G), key=len)\n",
    "scc_size = len(largest_scc)\n",
    "\n",
    "print(f\"Nodes: {num_nodes}, Edges: {num_edges}\")\n",
    "print(f\"Density: {density:.6f}\")\n",
    "print(f\"Average degree: {avg_degree:.2f}\")\n",
    "print(f\"Largest SCC size: {scc_size}\")\n"
   ]
  },
  {
   "cell_type": "code",
   "execution_count": 7,
   "id": "598f8ce4",
   "metadata": {},
   "outputs": [
    {
     "name": "stdout",
     "output_type": "stream",
     "text": [
      "📊 Plot saved at: NHB_Symbolic_Mainfold/figs/swow_degree_distribution.png\n"
     ]
    }
   ],
   "source": [
    "degree_sequence = sorted([d for _, d in G.degree()], reverse=True)\n",
    "plt.figure(figsize=(10, 6))\n",
    "plt.hist(degree_sequence, bins=100, color=\"steelblue\", edgecolor=\"black\")\n",
    "plt.title(\"Degree Distribution of SWOW Graph\")\n",
    "plt.xlabel(\"Node Degree\")\n",
    "plt.ylabel(\"Frequency (log scale)\")\n",
    "plt.yscale(\"log\")\n",
    "plt.grid(True, linestyle=\"--\", alpha=0.5)\n",
    "plt.tight_layout()\n",
    "plot_path = figs_path / \"swow_degree_distribution.png\"\n",
    "plt.savefig(plot_path, dpi=300)\n",
    "plt.close()\n",
    "print(f\"📊 Plot saved at: {plot_path}\")\n"
   ]
  },
  {
   "cell_type": "markdown",
   "id": "97a07bc5",
   "metadata": {},
   "source": [
    "## Interpretation\n",
    "\n",
    "The SWOW graph is a large-scale word association network. The degree distribution follows a heavy-tailed pattern, indicating a small number of hubs with many connections and many nodes with low degree.\n",
    "\n",
    "The largest strongly connected component reflects the core of the lexical graph where mutual associations reinforce connectivity — this is expected in natural language.\n",
    "\n",
    "This analysis sets the foundation for symbolic-cognitive simulations and model validation in our project.\n"
   ]
  }
 ],
 "metadata": {
  "kernelspec": {
   "display_name": "Python 3 (ipykernel)",
   "language": "python",
   "name": "python3"
  },
  "language_info": {
   "codemirror_mode": {
    "name": "ipython",
    "version": 3
   },
   "file_extension": ".py",
   "mimetype": "text/x-python",
   "name": "python",
   "nbconvert_exporter": "python",
   "pygments_lexer": "ipython3",
   "version": "3.13.5"
  }
 },
 "nbformat": 4,
 "nbformat_minor": 5
}
