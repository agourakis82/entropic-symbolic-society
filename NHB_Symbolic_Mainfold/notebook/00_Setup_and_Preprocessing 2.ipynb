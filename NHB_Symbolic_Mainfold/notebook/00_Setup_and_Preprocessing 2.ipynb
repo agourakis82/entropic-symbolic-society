{
 "cells": [
  {
   "cell_type": "markdown",
   "id": "690e5c70",
   "metadata": {},
   "source": [
    "# 🧰 Notebook 00 — Setup and Preprocessing\n",
    "This notebook sets up the environment, extracts and prepares the SWOW dataset for analysis. It ensures reproducibility and modular integrity for the rest of the symbolic manifold pipeline."
   ]
  },
  {
   "cell_type": "code",
   "execution_count": 1,
   "id": "8e23c1d5",
   "metadata": {},
   "outputs": [
    {
     "name": "stdout",
     "output_type": "stream",
     "text": [
      "📁 Data directory ready: /Users/demetriosagourakis/Library/Mobile Documents/com~apple~CloudDocs/Biologia Fractal/entropic-symbolic-society/NHB_Symbolic_Mainfold/notebook/NHB_Symbolic_Mainfold/data\n"
     ]
    }
   ],
   "source": [
    "import os\n",
    "import zipfile\n",
    "from pathlib import Path\n",
    "import pandas as pd\n",
    "\n",
    "# Define working directories\n",
    "DATA_DIR = Path(\"NHB_Symbolic_Mainfold/data\")\n",
    "DATA_DIR.mkdir(parents=True, exist_ok=True)\n",
    "print(f\"📁 Data directory ready: {DATA_DIR.resolve()}\")\n"
   ]
  },
  {
   "cell_type": "code",
   "execution_count": null,
   "id": "cba4a45c",
   "metadata": {},
   "outputs": [
    {
     "name": "stdout",
     "output_type": "stream",
     "text": [
      "❌ ZIP file not found at: /mnt/data/SWOW-EN18.zip\n"
     ]
    }
   ],
   "source": [
    "# ⚠️ Adjust the path to match where your .zip file is located\n",
    "zip_path = Path(\"NHB_Symbolic_Mainfold/data/SWOW-EN18.zip\")\n",
    "\n",
    "if zip_path.exists():\n",
    "    with zipfile.ZipFile(zip_path, 'r') as zip_ref:\n",
    "        zip_ref.extractall(DATA_DIR / \"SWOW-EN18\")\n",
    "    print(f\"✅ Extracted: {zip_path.name} to {DATA_DIR / 'SWOW-EN18'}\")\n",
    "else:\n",
    "    print(f\"❌ ZIP file not found at: {zip_path}\")\n"
   ]
  },
  {
   "cell_type": "code",
   "execution_count": 3,
   "id": "783ce3dd",
   "metadata": {},
   "outputs": [],
   "source": [
    "# List contents of extracted directory\n",
    "extracted_path = DATA_DIR / \"SWOW-EN18\"\n",
    "for file in extracted_path.glob(\"*.csv\"):\n",
    "    print(f\"📄 {file.name} — {file.stat().st_size / 1024:.2f} KB\")\n"
   ]
  }
 ],
 "metadata": {
  "kernelspec": {
   "display_name": "env311",
   "language": "python",
   "name": "python3"
  },
  "language_info": {
   "codemirror_mode": {
    "name": "ipython",
    "version": 3
   },
   "file_extension": ".py",
   "mimetype": "text/x-python",
   "name": "python",
   "nbconvert_exporter": "python",
   "pygments_lexer": "ipython3",
   "version": "3.11.13"
  }
 },
 "nbformat": 4,
 "nbformat_minor": 5
}
