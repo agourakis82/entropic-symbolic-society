{
 "cells": [
  {
   "cell_type": "markdown",
   "id": "5e3fafe4",
   "metadata": {},
   "source": [
    "# Notebook 02: Centrality and Symbolic Metrics in SWOW\n",
    "This notebook computes various centrality metrics and explores their possible symbolic interpretations (e.g., anchoring, curvature, entropy) in the SWOW semantic graph."
   ]
  },
  {
   "cell_type": "code",
   "execution_count": 1,
   "id": "b1dd8405",
   "metadata": {},
   "outputs": [
    {
     "name": "stdout",
     "output_type": "stream",
     "text": [
      "Graph loaded: 162446 nodes, 1534384 edges\n"
     ]
    }
   ],
   "source": [
    "import networkx as nx\n",
    "import matplotlib.pyplot as plt\n",
    "import numpy as np\n",
    "import pickle\n",
    "from pathlib import Path\n",
    "\n",
    "# Load graph\n",
    "graph_path = Path(\"/Users/demetriosagourakis/Library/Mobile Documents/com~apple~CloudDocs/Biologia Fractal/entropic-symbolic-society/NHB_Symbolic_Mainfold/data/swow_graph.gpickle\")\n",
    "with open(graph_path, \"rb\") as f:\n",
    "    G = pickle.load(f)\n",
    "\n",
    "print(f\"Graph loaded: {G.number_of_nodes()} nodes, {G.number_of_edges()} edges\")"
   ]
  },
  {
   "cell_type": "code",
   "execution_count": 2,
   "id": "ade1c804",
   "metadata": {},
   "outputs": [
    {
     "data": {
      "text/html": [
       "<div>\n",
       "<style scoped>\n",
       "    .dataframe tbody tr th:only-of-type {\n",
       "        vertical-align: middle;\n",
       "    }\n",
       "\n",
       "    .dataframe tbody tr th {\n",
       "        vertical-align: top;\n",
       "    }\n",
       "\n",
       "    .dataframe thead th {\n",
       "        text-align: right;\n",
       "    }\n",
       "</style>\n",
       "<table border=\"1\" class=\"dataframe\">\n",
       "  <thead>\n",
       "    <tr style=\"text-align: right;\">\n",
       "      <th></th>\n",
       "      <th>degree</th>\n",
       "      <th>betweenness</th>\n",
       "      <th>closeness</th>\n",
       "      <th>eigenvector</th>\n",
       "    </tr>\n",
       "  </thead>\n",
       "  <tbody>\n",
       "    <tr>\n",
       "      <th>count</th>\n",
       "      <td>162446.000000</td>\n",
       "      <td>162446.000000</td>\n",
       "      <td>162446.000000</td>\n",
       "      <td>1.624460e+05</td>\n",
       "    </tr>\n",
       "    <tr>\n",
       "      <th>mean</th>\n",
       "      <td>0.000116</td>\n",
       "      <td>0.000001</td>\n",
       "      <td>0.021829</td>\n",
       "      <td>3.480593e-04</td>\n",
       "    </tr>\n",
       "    <tr>\n",
       "      <th>std</th>\n",
       "      <td>0.000508</td>\n",
       "      <td>0.000007</td>\n",
       "      <td>0.003366</td>\n",
       "      <td>2.456580e-03</td>\n",
       "    </tr>\n",
       "    <tr>\n",
       "      <th>min</th>\n",
       "      <td>0.000006</td>\n",
       "      <td>0.000000</td>\n",
       "      <td>0.000000</td>\n",
       "      <td>3.309398e-17</td>\n",
       "    </tr>\n",
       "    <tr>\n",
       "      <th>25%</th>\n",
       "      <td>0.000006</td>\n",
       "      <td>0.000000</td>\n",
       "      <td>0.019727</td>\n",
       "      <td>8.958895e-06</td>\n",
       "    </tr>\n",
       "    <tr>\n",
       "      <th>50%</th>\n",
       "      <td>0.000006</td>\n",
       "      <td>0.000000</td>\n",
       "      <td>0.020852</td>\n",
       "      <td>2.548271e-05</td>\n",
       "    </tr>\n",
       "    <tr>\n",
       "      <th>75%</th>\n",
       "      <td>0.000018</td>\n",
       "      <td>0.000000</td>\n",
       "      <td>0.023795</td>\n",
       "      <td>1.046079e-04</td>\n",
       "    </tr>\n",
       "    <tr>\n",
       "      <th>max</th>\n",
       "      <td>0.075527</td>\n",
       "      <td>0.000299</td>\n",
       "      <td>0.075527</td>\n",
       "      <td>4.289090e-01</td>\n",
       "    </tr>\n",
       "  </tbody>\n",
       "</table>\n",
       "</div>"
      ],
      "text/plain": [
       "              degree    betweenness      closeness   eigenvector\n",
       "count  162446.000000  162446.000000  162446.000000  1.624460e+05\n",
       "mean        0.000116       0.000001       0.021829  3.480593e-04\n",
       "std         0.000508       0.000007       0.003366  2.456580e-03\n",
       "min         0.000006       0.000000       0.000000  3.309398e-17\n",
       "25%         0.000006       0.000000       0.019727  8.958895e-06\n",
       "50%         0.000006       0.000000       0.020852  2.548271e-05\n",
       "75%         0.000018       0.000000       0.023795  1.046079e-04\n",
       "max         0.075527       0.000299       0.075527  4.289090e-01"
      ]
     },
     "execution_count": 2,
     "metadata": {},
     "output_type": "execute_result"
    }
   ],
   "source": [
    "# Compute centrality metrics\n",
    "degree_centrality = nx.degree_centrality(G)\n",
    "betweenness = nx.betweenness_centrality(G, k=1000, seed=42)\n",
    "closeness = nx.closeness_centrality(G)\n",
    "eigenvector = nx.eigenvector_centrality(G, max_iter=1000)\n",
    "\n",
    "# Create DataFrame\n",
    "import pandas as pd\n",
    "df = pd.DataFrame({\n",
    "    \"degree\": pd.Series(degree_centrality),\n",
    "    \"betweenness\": pd.Series(betweenness),\n",
    "    \"closeness\": pd.Series(closeness),\n",
    "    \"eigenvector\": pd.Series(eigenvector),\n",
    "})\n",
    "df.describe()"
   ]
  },
  {
   "cell_type": "markdown",
   "id": "bf8e8864",
   "metadata": {},
   "source": [
    "## Symbolic Interpretation Proposal:\n",
    "- **Anchoring coefficient ($\\alpha$)**: eigenvector centrality — reflects how 'anchored' a word is in dominant clusters.\n",
    "- **Symbolic curvature ($\\kappa$)**: betweenness centrality — reflects capacity for divergent semantic leaps.\n",
    "- **Recursive entropy ($E_r$)**: degree or closeness entropy — measures symbolic unpredictability or reachability.\n"
   ]
  },
  {
   "cell_type": "code",
   "execution_count": null,
   "id": "7b6f0192-4019-4221-8972-07b9fb1dee43",
   "metadata": {},
   "outputs": [],
   "source": []
  }
 ],
 "metadata": {
  "kernelspec": {
   "display_name": "Python 3 (ipykernel)",
   "language": "python",
   "name": "python3"
  },
  "language_info": {
   "codemirror_mode": {
    "name": "ipython",
    "version": 3
   },
   "file_extension": ".py",
   "mimetype": "text/x-python",
   "name": "python",
   "nbconvert_exporter": "python",
   "pygments_lexer": "ipython3",
   "version": "3.13.5"
  }
 },
 "nbformat": 4,
 "nbformat_minor": 5
}
