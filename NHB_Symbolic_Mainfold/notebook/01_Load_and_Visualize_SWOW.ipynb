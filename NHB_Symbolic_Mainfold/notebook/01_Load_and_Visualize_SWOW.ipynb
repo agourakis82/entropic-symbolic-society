{
 "cells": [
  {
   "cell_type": "markdown",
   "id": "ed248856",
   "metadata": {},
   "source": [
    "# 🧠 01 – Load and Visualize SWOW Network\n",
    "\n",
    "This notebook loads the SWOW semantic graph and performs basic visualization and structural analysis.\n",
    "It supports our symbolic manifold framework by quantifying real-world semantic network properties.\n",
    "\n",
    "📌 *Author: Demetrios Agourakis – Symbolic Cognitive Project (2025)*\n"
   ]
  },
  {
   "cell_type": "markdown",
   "id": "38266ce3",
   "metadata": {},
   "source": [
    "# Imports and setup\n",
    "import networkx as nx\n",
    "import matplotlib.pyplot as plt\n",
    "import pandas as pd\n",
    "import pathlib\n",
    "import pickle\n",
    "\n",
    "# Paths\n",
    "graph_path = pathlib.Path(\"../data/swow_graph.gpickle\")\n",
    "out_path = pathlib.Path(\"../figs\")\n",
    "out_path.mkdir(parents=True, exist_ok=True)"
   ]
  },
  {
   "cell_type": "markdown",
   "id": "232db59e",
   "metadata": {},
   "source": [
    "# Load graph\n",
    "with open(graph_path, 'rb') as f:\n",
    "    G = pickle.load(f)\n",
    "print(f\"✅ Graph loaded: {G.number_of_nodes()} nodes, {G.number_of_edges()} edges\")"
   ]
  },
  {
   "cell_type": "markdown",
   "id": "8c70ac0c",
   "metadata": {},
   "source": [
    "# Degree distribution plot\n",
    "degrees = sorted([d for _, d in G.degree()], reverse=True)\n",
    "plt.figure(figsize=(10, 6))\n",
    "plt.hist(degrees, bins=100, color='steelblue', edgecolor='black')\n",
    "plt.title(\"Degree Distribution of SWOW Network\")\n",
    "plt.xlabel(\"Degree\")\n",
    "plt.ylabel(\"Frequency (log scale)\")\n",
    "plt.yscale(\"log\")\n",
    "plt.grid(True, linestyle='--', alpha=0.5)\n",
    "plt.tight_layout()\n",
    "plt.savefig(out_path / \"swow_degree_distribution.png\", dpi=300)\n",
    "plt.show()"
   ]
  },
  {
   "cell_type": "markdown",
   "id": "3274f945",
   "metadata": {},
   "source": [
    "### 🧠 Interpretation\n",
    "- A heavy-tailed distribution is expected for associative networks.\n",
    "- Hubs likely correspond to semantically central concepts.\n",
    "- This topology supports curvature and entropy variation across the manifold.\n"
   ]
  }
 ],
 "metadata": {
  "kernelspec": {
   "display_name": "Python 3 (ipykernel)",
   "language": "python",
   "name": "python3"
  },
  "language_info": {
   "codemirror_mode": {
    "name": "ipython",
    "version": 3
   },
   "file_extension": ".py",
   "mimetype": "text/x-python",
   "name": "python",
   "nbconvert_exporter": "python",
   "pygments_lexer": "ipython3",
   "version": "3.13.5"
  }
 },
 "nbformat": 4,
 "nbformat_minor": 5
}
