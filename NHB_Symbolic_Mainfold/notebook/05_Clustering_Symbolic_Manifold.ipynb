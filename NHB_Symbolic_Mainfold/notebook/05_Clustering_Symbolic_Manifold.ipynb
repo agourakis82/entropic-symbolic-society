{
 "cells": [
  {
   "cell_type": "markdown",
   "id": "5ea4415f",
   "metadata": {},
   "source": [
    "# 🧠 Notebook 05 – Clustering in the Symbolic Manifold"
   ]
  },
  {
   "cell_type": "code",
   "execution_count": 1,
   "id": "6d53f024",
   "metadata": {},
   "outputs": [
    {
     "name": "stderr",
     "output_type": "stream",
     "text": [
      "/Users/demetriosagourakis/Library/Mobile Documents/com~apple~CloudDocs/Biologia Fractal/entropic-symbolic-society/NHB_Symbolic_Mainfold/notebook/clean_env/lib/python3.11/site-packages/tqdm/auto.py:21: TqdmWarning: IProgress not found. Please update jupyter and ipywidgets. See https://ipywidgets.readthedocs.io/en/stable/user_install.html\n",
      "  from .autonotebook import tqdm as notebook_tqdm\n",
      "/Users/demetriosagourakis/Library/Mobile Documents/com~apple~CloudDocs/Biologia Fractal/entropic-symbolic-society/NHB_Symbolic_Mainfold/notebook/clean_env/lib/python3.11/site-packages/umap/__init__.py:36: UserWarning: pkg_resources is deprecated as an API. See https://setuptools.pypa.io/en/latest/pkg_resources.html. The pkg_resources package is slated for removal as early as 2025-11-30. Refrain from using this package or pin to Setuptools<81.\n",
      "  import pkg_resources\n"
     ]
    },
    {
     "name": "stdout",
     "output_type": "stream",
     "text": [
      "✅ PCA completed and saved.\n"
     ]
    }
   ],
   "source": [
    "import pandas as pd\n",
    "import numpy as np\n",
    "import networkx as nx\n",
    "from sklearn.decomposition import PCA\n",
    "from sklearn.manifold import TSNE\n",
    "from sklearn.preprocessing import StandardScaler\n",
    "from sklearn.cluster import KMeans, DBSCAN\n",
    "from sklearn.metrics import silhouette_score\n",
    "from sklearn.neighbors import NearestNeighbors\n",
    "import matplotlib.pyplot as plt\n",
    "import seaborn as sns\n",
    "import umap\n",
    "from pathlib import Path\n",
    "\n",
    "# Load symbolic metrics\n",
    "metrics_path = Path(\"/Users/demetriosagourakis/Library/Mobile Documents/com~apple~CloudDocs/Biologia Fractal/entropic-symbolic-society/NHB_Symbolic_Mainfold/data/symbolic_metrics.csv\")\n",
    "metrics_df = pd.read_csv(metrics_path)\n",
    "\n",
    "# Filter invalid entries\n",
    "invalid_mask = metrics_df['word'].str.contains(r\"no more responses|NORESP|no response|I don't know\", case=False, na=False)\n",
    "invalid_mask |= metrics_df['word'].str.strip().eq('') | metrics_df['word'].str.contains(r'^\\W+$', na=False)\n",
    "valid_df = metrics_df[~invalid_mask].copy()\n",
    "\n",
    "# Standardize\n",
    "X = valid_df[['anchoring_alpha', 'curvature_kappa', 'entropy_Er']].values\n",
    "X_scaled = StandardScaler().fit_transform(X)\n",
    "\n",
    "# PCA\n",
    "pca = PCA(n_components=2)\n",
    "X_pca = pca.fit_transform(X_scaled)\n",
    "\n",
    "# Save for future clustering\n",
    "np.save(\"/Users/demetriosagourakis/Library/Mobile Documents/com~apple~CloudDocs/Biologia Fractal/entropic-symbolic-society/NHB_Symbolic_Mainfold/data/X_pca.npy\", X_pca)\n",
    "valid_df.to_csv(\"/Users/demetriosagourakis/Library/Mobile Documents/com~apple~CloudDocs/Biologia Fractal/entropic-symbolic-society/NHB_Symbolic_Mainfold/data/filtered_metrics.csv\", index=False)\n",
    "\n",
    "print(\"✅ PCA completed and saved.\")\n"
   ]
  },
  {
   "cell_type": "code",
   "execution_count": null,
   "id": "7ab4d3ac-582f-4bff-9bf2-6676efbea03f",
   "metadata": {},
   "outputs": [],
   "source": []
  },
  {
   "cell_type": "code",
   "execution_count": null,
   "id": "61441dad-f358-4cf3-bc42-46b2757d0105",
   "metadata": {},
   "outputs": [],
   "source": []
  }
 ],
 "metadata": {
  "kernelspec": {
   "display_name": "Python 3 (ipykernel)",
   "language": "python",
   "name": "python3"
  },
  "language_info": {
   "codemirror_mode": {
    "name": "ipython",
    "version": 3
   },
   "file_extension": ".py",
   "mimetype": "text/x-python",
   "name": "python",
   "nbconvert_exporter": "python",
   "pygments_lexer": "ipython3",
   "version": "3.11.13"
  }
 },
 "nbformat": 4,
 "nbformat_minor": 5
}
