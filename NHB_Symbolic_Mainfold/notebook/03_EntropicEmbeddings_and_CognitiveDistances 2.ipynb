{
 "cells": [
  {
   "cell_type": "markdown",
   "id": "a2b50058",
   "metadata": {},
   "source": [
    "# 03 – Entropic Embeddings and Cognitive Distances\n",
    "This notebook derives symbolic embeddings from the SWOW graph and connects them to the symbolic manifold $(\\alpha, \\kappa, E_r)$. It uses network embeddings, entropy measures, and topological proximity to operationalize cognitive curvature and symbolic unpredictability."
   ]
  },
  {
   "cell_type": "code",
   "execution_count": 1,
   "id": "bdcb55fa",
   "metadata": {},
   "outputs": [
    {
     "name": "stderr",
     "output_type": "stream",
     "text": [
      "/Users/demetriosagourakis/Library/Mobile Documents/com~apple~CloudDocs/Biologia Fractal/entropic-symbolic-society/env311/lib/python3.11/site-packages/node2vec/edges.py:6: UserWarning: pkg_resources is deprecated as an API. See https://setuptools.pypa.io/en/latest/pkg_resources.html. The pkg_resources package is slated for removal as early as 2025-11-30. Refrain from using this package or pin to Setuptools<81.\n",
      "  import pkg_resources\n",
      "/Users/demetriosagourakis/Library/Mobile Documents/com~apple~CloudDocs/Biologia Fractal/entropic-symbolic-society/env311/lib/python3.11/site-packages/tqdm/auto.py:21: TqdmWarning: IProgress not found. Please update jupyter and ipywidgets. See https://ipywidgets.readthedocs.io/en/stable/user_install.html\n",
      "  from .autonotebook import tqdm as notebook_tqdm\n"
     ]
    },
    {
     "name": "stdout",
     "output_type": "stream",
     "text": [
      "Graph loaded: 162446 nodes, 1534384 edges\n"
     ]
    }
   ],
   "source": [
    "import networkx as nx\n",
    "import numpy as np\n",
    "import pandas as pd\n",
    "import matplotlib.pyplot as plt\n",
    "import pathlib\n",
    "\n",
    "from node2vec import Node2Vec\n",
    "from sklearn.decomposition import PCA\n",
    "import seaborn as sns\n",
    "\n",
    "# Load graph\n",
    "graph_path = pathlib.Path(\"../data/swow_graph.gpickle\")\n",
    "G = nx.read_gpickle(graph_path)\n",
    "print(f\"Graph loaded: {G.number_of_nodes()} nodes, {G.number_of_edges()} edges\")"
   ]
  },
  {
   "cell_type": "markdown",
   "id": "17b98594",
   "metadata": {},
   "source": [
    "## Embedding the Graph with Node2Vec\n",
    "We use Node2Vec to learn continuous feature representations for each node based on structural similarity and proximity."
   ]
  },
  {
   "cell_type": "code",
   "execution_count": 2,
   "id": "dc606cf9",
   "metadata": {},
   "outputs": [
    {
     "ename": "NameError",
     "evalue": "name 'Node2Vec' is not defined",
     "output_type": "error",
     "traceback": [
      "\u001b[31m---------------------------------------------------------------------------\u001b[39m",
      "\u001b[31mNameError\u001b[39m                                 Traceback (most recent call last)",
      "\u001b[36mCell\u001b[39m\u001b[36m \u001b[39m\u001b[32mIn[2]\u001b[39m\u001b[32m, line 2\u001b[39m\n\u001b[32m      1\u001b[39m \u001b[38;5;66;03m# Run Node2Vec\u001b[39;00m\n\u001b[32m----> \u001b[39m\u001b[32m2\u001b[39m node2vec = \u001b[43mNode2Vec\u001b[49m(G, dimensions=\u001b[32m64\u001b[39m, walk_length=\u001b[32m30\u001b[39m, num_walks=\u001b[32m200\u001b[39m, workers=\u001b[32m2\u001b[39m)\n\u001b[32m      3\u001b[39m model = node2vec.fit(window=\u001b[32m10\u001b[39m, min_count=\u001b[32m1\u001b[39m)\n\u001b[32m      5\u001b[39m \u001b[38;5;66;03m# Create embedding dataframe\u001b[39;00m\n",
      "\u001b[31mNameError\u001b[39m: name 'Node2Vec' is not defined"
     ]
    }
   ],
   "source": [
    "# Run Node2Vec\n",
    "node2vec = Node2Vec(G, dimensions=64, walk_length=30, num_walks=200, workers=2)\n",
    "model = node2vec.fit(window=10, min_count=1)\n",
    "\n",
    "# Create embedding dataframe\n",
    "embedding_df = pd.DataFrame([model.wv[node] for node in G.nodes()], index=list(G.nodes()))\n",
    "embedding_df.head()"
   ]
  },
  {
   "cell_type": "markdown",
   "id": "c38b97a2",
   "metadata": {},
   "source": [
    "## Dimensionality Reduction\n",
    "To visualize and use embeddings in symbolic models, we reduce them to 2D or 3D using PCA."
   ]
  },
  {
   "cell_type": "code",
   "execution_count": 3,
   "id": "19bd751f",
   "metadata": {},
   "outputs": [
    {
     "ename": "ModuleNotFoundError",
     "evalue": "No module named 'pandas.core.methods.to_dict'",
     "output_type": "error",
     "traceback": [
      "\u001b[31m---------------------------------------------------------------------------\u001b[39m",
      "\u001b[31mModuleNotFoundError\u001b[39m                       Traceback (most recent call last)",
      "\u001b[36mCell\u001b[39m\u001b[36m \u001b[39m\u001b[32mIn[3]\u001b[39m\u001b[32m, line 6\u001b[39m\n\u001b[32m      3\u001b[39m coords = pca.fit_transform(embedding_df)\n\u001b[32m      4\u001b[39m embedding_df[[\u001b[33m\"\u001b[39m\u001b[33mx\u001b[39m\u001b[33m\"\u001b[39m, \u001b[33m\"\u001b[39m\u001b[33my\u001b[39m\u001b[33m\"\u001b[39m]] = coords\n\u001b[32m----> \u001b[39m\u001b[32m6\u001b[39m \u001b[43msns\u001b[49m\u001b[43m.\u001b[49m\u001b[43mscatterplot\u001b[49m\u001b[43m(\u001b[49m\u001b[43mdata\u001b[49m\u001b[43m=\u001b[49m\u001b[43membedding_df\u001b[49m\u001b[43m,\u001b[49m\u001b[43m \u001b[49m\u001b[43mx\u001b[49m\u001b[43m=\u001b[49m\u001b[33;43m\"\u001b[39;49m\u001b[33;43mx\u001b[39;49m\u001b[33;43m\"\u001b[39;49m\u001b[43m,\u001b[49m\u001b[43m \u001b[49m\u001b[43my\u001b[49m\u001b[43m=\u001b[49m\u001b[33;43m\"\u001b[39;49m\u001b[33;43my\u001b[39;49m\u001b[33;43m\"\u001b[39;49m\u001b[43m,\u001b[49m\u001b[43m \u001b[49m\u001b[43malpha\u001b[49m\u001b[43m=\u001b[49m\u001b[32;43m0.3\u001b[39;49m\u001b[43m)\u001b[49m\n\u001b[32m      7\u001b[39m plt.title(\u001b[33m\"\u001b[39m\u001b[33mNode Embeddings (PCA projection)\u001b[39m\u001b[33m\"\u001b[39m)\n\u001b[32m      8\u001b[39m plt.show()\n",
      "\u001b[36mFile \u001b[39m\u001b[32m~/Library/Mobile Documents/com~apple~CloudDocs/Biologia Fractal/entropic-symbolic-society/env311/lib/python3.11/site-packages/seaborn/relational.py:615\u001b[39m, in \u001b[36mscatterplot\u001b[39m\u001b[34m(data, x, y, hue, size, style, palette, hue_order, hue_norm, sizes, size_order, size_norm, markers, style_order, legend, ax, **kwargs)\u001b[39m\n",
      "\u001b[36mFile \u001b[39m\u001b[32m~/Library/Mobile Documents/com~apple~CloudDocs/Biologia Fractal/entropic-symbolic-society/env311/lib/python3.11/site-packages/seaborn/relational.py:396\u001b[39m, in \u001b[36m__init__\u001b[39m\u001b[34m(self, data, variables, legend)\u001b[39m\n",
      "\u001b[36mFile \u001b[39m\u001b[32m~/Library/Mobile Documents/com~apple~CloudDocs/Biologia Fractal/entropic-symbolic-society/env311/lib/python3.11/site-packages/seaborn/_base.py:634\u001b[39m, in \u001b[36m__init__\u001b[39m\u001b[34m(self, data, variables)\u001b[39m\n",
      "\u001b[36mFile \u001b[39m\u001b[32m~/Library/Mobile Documents/com~apple~CloudDocs/Biologia Fractal/entropic-symbolic-society/env311/lib/python3.11/site-packages/seaborn/_base.py:679\u001b[39m, in \u001b[36massign_variables\u001b[39m\u001b[34m(self, data, variables)\u001b[39m\n",
      "\u001b[36mFile \u001b[39m\u001b[32m~/Library/Mobile Documents/com~apple~CloudDocs/Biologia Fractal/entropic-symbolic-society/env311/lib/python3.11/site-packages/seaborn/_core/data.py:58\u001b[39m, in \u001b[36m__init__\u001b[39m\u001b[34m(self, data, variables)\u001b[39m\n",
      "\u001b[36mFile \u001b[39m\u001b[32m~/Library/Mobile Documents/com~apple~CloudDocs/Biologia Fractal/entropic-symbolic-society/env311/lib/python3.11/site-packages/seaborn/_core/data.py:184\u001b[39m, in \u001b[36m_assign_variables\u001b[39m\u001b[34m(self, data, variables)\u001b[39m\n",
      "\u001b[36mFile \u001b[39m\u001b[32m~/Library/Mobile Documents/com~apple~CloudDocs/Biologia Fractal/entropic-symbolic-society/env311/lib/python3.11/site-packages/pandas/util/_decorators.py:333\u001b[39m, in \u001b[36mwrapper\u001b[39m\u001b[34m(*args, **kwargs)\u001b[39m\n",
      "\u001b[36mFile \u001b[39m\u001b[32m~/Library/Mobile Documents/com~apple~CloudDocs/Biologia Fractal/entropic-symbolic-society/env311/lib/python3.11/site-packages/pandas/core/frame.py:2181\u001b[39m, in \u001b[36mto_dict\u001b[39m\u001b[34m(self, orient, into, index)\u001b[39m\n",
      "\u001b[31mModuleNotFoundError\u001b[39m: No module named 'pandas.core.methods.to_dict'"
     ]
    }
   ],
   "source": [
    "# PCA projection\n",
    "pca = PCA(n_components=2)\n",
    "coords = pca.fit_transform(embedding_df)\n",
    "embedding_df[[\"x\", \"y\"]] = coords\n",
    "\n",
    "sns.scatterplot(data=embedding_df, x=\"x\", y=\"y\", alpha=0.3)\n",
    "plt.title(\"Node Embeddings (PCA projection)\")\n",
    "plt.show()"
   ]
  },
  {
   "cell_type": "markdown",
   "id": "15a12e42",
   "metadata": {},
   "source": [
    "## Cognitive Symbolic Metrics (Curvature and Entropy)\n",
    "We estimate local entropy and divergence using neighbors of each node."
   ]
  },
  {
   "cell_type": "code",
   "execution_count": null,
   "id": "481ccaee",
   "metadata": {},
   "outputs": [],
   "source": [
    "def local_entropy(node):\n",
    "    neighbors = list(G.neighbors(node))\n",
    "    degs = np.array([G.degree(n) for n in neighbors])\n",
    "    if len(degs) == 0:\n",
    "        return 0\n",
    "    p = degs / degs.sum()\n",
    "    return -(p * np.log2(p)).sum()\n",
    "\n",
    "embedding_df['E_r'] = embedding_df.index.to_series().apply(local_entropy)"
   ]
  },
  {
   "cell_type": "code",
   "execution_count": null,
   "id": "342e1bf2-d1a9-40cb-b8eb-bcbc7f124609",
   "metadata": {},
   "outputs": [],
   "source": []
  }
 ],
 "metadata": {
  "kernelspec": {
   "display_name": "Python 3 (ipykernel)",
   "language": "python",
   "name": "python3"
  },
  "language_info": {
   "codemirror_mode": {
    "name": "ipython",
    "version": 3
   },
   "file_extension": ".py",
   "mimetype": "text/x-python",
   "name": "python",
   "nbconvert_exporter": "python",
   "pygments_lexer": "ipython3",
   "version": "3.11.13"
  }
 },
 "nbformat": 4,
 "nbformat_minor": 5
}
