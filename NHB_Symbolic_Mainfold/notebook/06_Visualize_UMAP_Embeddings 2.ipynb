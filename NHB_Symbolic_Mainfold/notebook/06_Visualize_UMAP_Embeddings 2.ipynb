{
 "cells": [
  {
   "cell_type": "markdown",
   "id": "4844814f",
   "metadata": {},
   "source": [
    "# 06 — Visualize UMAP Embeddings  \n",
    "Pipeline reconstruído: **node2vec → UMAP → K‑Means → visualização**\n",
    "\n",
    "Este notebook gera `X_umap.npy`, `labels.csv` e o `DataFrame` consolidado.\n",
    "*Repositório base*: `NHB_Symbolic_Manifold`\n"
   ]
  },
  {
   "cell_type": "code",
   "execution_count": null,
   "id": "56a41b6f",
   "metadata": {},
   "outputs": [],
   "source": [
    "# 0. Imports e configuração de paths\n",
    "import pandas as pd, numpy as np, umap\n",
    "from sklearn.cluster import KMeans\n",
    "from pathlib import Path, PurePath\n",
    "import matplotlib.pyplot as plt, seaborn as sns, json, os\n",
    "\n",
    "# Ajuste o caminho raiz do repositório se necessário\n",
    "ROOT = Path().resolve()  # assume que o notebook vive na raiz ou em notebooks/\n",
    "DATA = ROOT / 'data'\n",
    "DATA.mkdir(exist_ok=True)\n",
    "\n",
    "EMB_CSV = DATA / 'symbolic_metrics_embeddings.csv'\n",
    "assert EMB_CSV.exists(), f'Arquivo não encontrado: {EMB_CSV}'\n",
    "\n",
    "df = pd.read_csv(EMB_CSV)\n",
    "print('Loaded', df.shape, 'rows')"
   ]
  },
  {
   "cell_type": "code",
   "execution_count": null,
   "id": "91978d2b",
   "metadata": {},
   "outputs": [],
   "source": [
    "# 1. Seleciona coluna(s) de embeddings\n",
    "embedding_cols = [c for c in df.columns if c.startswith('emb_') or c.startswith('dim_')]\n",
    "assert len(embedding_cols) > 2, 'Não foram encontradas colunas de embedding suficientes.'\n",
    "X = df[embedding_cols].values.astype('float32')\n",
    "print('Embedding matrix shape:', X.shape)"
   ]
  },
  {
   "cell_type": "markdown",
   "id": "cfd08c72",
   "metadata": {},
   "source": [
    "## 2. Projeção UMAP → 2D"
   ]
  },
  {
   "cell_type": "code",
   "execution_count": null,
   "id": "19702979",
   "metadata": {},
   "outputs": [],
   "source": [
    "reducer = umap.UMAP(n_neighbors=30, min_dist=0.1, metric='cosine', random_state=42)\n",
    "X_umap = reducer.fit_transform(X)\n",
    "print('UMAP shape:', X_umap.shape)\n",
    "\n",
    "# Salva array\n",
    "np.save(DATA / 'X_umap.npy', X_umap)\n",
    "print('Saved X_umap.npy')"
   ]
  },
  {
   "cell_type": "markdown",
   "id": "882b51ef",
   "metadata": {},
   "source": [
    "## 3. Clustering K‑Means sobre UMAP"
   ]
  },
  {
   "cell_type": "code",
   "execution_count": null,
   "id": "c0b45460",
   "metadata": {},
   "outputs": [],
   "source": [
    "n_clusters = 8  # ajuste conforme análise de silhueta ou conforme notebook 05\n",
    "kmeans = KMeans(n_clusters=n_clusters, random_state=42, n_init='auto')\n",
    "labels = kmeans.fit_predict(X_umap)\n",
    "df['label'] = labels\n",
    "np.savetxt(DATA / 'labels.csv', labels, delimiter=',', fmt='%d')\n",
    "print('Saved labels.csv')"
   ]
  },
  {
   "cell_type": "markdown",
   "id": "956ac70c",
   "metadata": {},
   "source": [
    "## 4. Consolidar DataFrame & salvar"
   ]
  },
  {
   "cell_type": "code",
   "execution_count": null,
   "id": "93b96220",
   "metadata": {},
   "outputs": [],
   "source": [
    "df[['x_umap', 'y_umap']] = X_umap\n",
    "consolidated_path = DATA / 'symbolic_umap_dataframe.csv'\n",
    "df.to_csv(consolidated_path, index=False)\n",
    "print('Consolidated DataFrame saved to', consolidated_path)"
   ]
  },
  {
   "cell_type": "markdown",
   "id": "27f1bc8e",
   "metadata": {},
   "source": [
    "## 5. Visualização rápida"
   ]
  },
  {
   "cell_type": "code",
   "execution_count": null,
   "id": "bf7e4fd0",
   "metadata": {},
   "outputs": [],
   "source": [
    "sns.set(style='white', rc={'figure.figsize':(8,6)})\n",
    "sns.scatterplot(x='x_umap', y='y_umap', hue='label', data=df, palette='tab10', s=25, linewidth=0)\n",
    "plt.title('UMAP projection with K‑Means labels')\n",
    "plt.axis('equal')\n",
    "plt.show()"
   ]
  },
  {
   "cell_type": "markdown",
   "id": "fdde0ae9",
   "metadata": {},
   "source": [
    "### 6. Metadados & logging\n",
    "```json\n",
    "{\n",
    "  \"umap\": {\"n_neighbors\": 30, \"min_dist\": 0.1, \"metric\": \"cosine\"},\n",
    "  \"kmeans\": {\"n_clusters\": 8, \"random_state\": 42}\n",
    "}\n",
    "```\n",
    "Salvos como `data/umap_kmeans_params.json`."
   ]
  },
  {
   "cell_type": "code",
   "execution_count": null,
   "id": "c4357376",
   "metadata": {},
   "outputs": [],
   "source": [
    "params = {\n",
    "    'umap': {'n_neighbors': 30, 'min_dist': 0.1, 'metric': 'cosine'},\n",
    "    'kmeans': {'n_clusters': int(n_clusters), 'random_state': 42}\n",
    "}\n",
    "with open(DATA / 'umap_kmeans_params.json', 'w') as f:\n",
    "    json.dump(params, f, indent=2)\n",
    "print('Saved umap_kmeans_params.json')"
   ]
  }
 ],
 "metadata": {},
 "nbformat": 4,
 "nbformat_minor": 5
}
