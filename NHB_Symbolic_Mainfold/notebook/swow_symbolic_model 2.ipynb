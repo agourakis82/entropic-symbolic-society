{
 "cells": [
  {
   "cell_type": "code",
   "execution_count": null,
   "id": "6764fa4e-fb0b-4a6c-93cd-d1d9690b9ac8",
   "metadata": {},
   "outputs": [],
   "source": [
    "# Bloco 0 — Imports e configuração global\n",
    "import pandas as pd\n",
    "import numpy as np\n",
    "import matplotlib.pyplot as plt\n",
    "import seaborn as sns\n",
    "import networkx as nx\n",
    "from pathlib import Path\n",
    "\n",
    "plt.style.use(\"seaborn-whitegrid\")\n",
    "%matplotlib inline\n",
    "\n",
    "# Criar diretórios se não existirem\n",
    "Path(\"figs\").mkdir(exist_ok=True)"
   ]
  },
  {
   "cell_type": "code",
   "execution_count": null,
   "id": "dbe6be14-f5b4-4b6c-bdda-5a7f668dca72",
   "metadata": {},
   "outputs": [],
   "source": [
    "# === Bloco 1: Carregar SWOW ===\n",
    "df = pd.read_csv(\"data/SWOW-EN.complete.20180827.csv\")\n",
    "\n",
    "print(f\"Nº de entradas: {len(df)}\")\n",
    "df.head()"
   ]
  }
 ],
 "metadata": {
  "kernelspec": {
   "display_name": "Python 3 (ipykernel)",
   "language": "python",
   "name": "python3"
  },
  "language_info": {
   "codemirror_mode": {
    "name": "ipython",
    "version": 3
   },
   "file_extension": ".py",
   "mimetype": "text/x-python",
   "name": "python",
   "nbconvert_exporter": "python",
   "pygments_lexer": "ipython3",
   "version": "3.13.5"
  }
 },
 "nbformat": 4,
 "nbformat_minor": 5
}
