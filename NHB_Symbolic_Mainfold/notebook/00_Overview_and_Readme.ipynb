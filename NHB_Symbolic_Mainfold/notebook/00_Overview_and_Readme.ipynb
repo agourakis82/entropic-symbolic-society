{
 "cells": [
  {
   "cell_type": "markdown",
   "id": "bb64bc4b",
   "metadata": {},
   "source": [
    "# 📘 Project Overview – Symbolic Manifold and Entropic Cognition"
   ]
  },
  {
   "cell_type": "markdown",
   "id": "671af845",
   "metadata": {},
   "source": [
    "Welcome to the repository **entropic-symbolic-society**.\n",
    "\n",
    "This project explores symbolic cognition through network science, cognitive embeddings, entropy theory and manifold geometry.\n",
    "\n",
    "This notebook provides an entry point for:\n",
    "- Navigation of all major notebooks.\n",
    "- Tracking execution and environment setup.\n",
    "- Citation and authorship details.\n"
   ]
  },
  {
   "cell_type": "markdown",
   "id": "d1f6ab9d",
   "metadata": {},
   "source": [
    "## 📂 Project Structure\n",
    "\n",
    "- `00_Overview_and_Readme.ipynb` — This notebook.\n",
    "- `01_Load_and_Visualize_SWOW.ipynb` — Parses the SWOW dataset and visualizes initial statistics.\n",
    "- `01_SWOW_graph_analysis.ipynb` — Builds and exports the SWOW associative graph.\n",
    "- `02_Centrality_and_SymbolicMetrics.ipynb` — Computes symbolic metrics (α, κ, entropy).\n",
    "- `03_EntropicEmbeddings_and_CognitiveDistances.ipynb` — Generates node2vec embeddings.\n",
    "- `04_Map_Symbolic_Metrics_From_SWOW.ipynb` — Joins metrics and embeddings into unified CSV.\n",
    "- `05_Clustering_Symbolic_Manifold.ipynb` — Performs UMAP + clustering of symbolic topology.\n",
    "- `06_Visualize_UMAP_Embeddings.ipynb` — Visualizes latent symbolic manifold geometry.\n",
    "\n",
    "📁 Other folders:\n",
    "- `data/` — All derived and raw data (.csv, .gpickle).\n",
    "- `figs/` — All generated figures.\n",
    "- `notebook/` — Modular Jupyter notebooks.\n"
   ]
  },
  {
   "cell_type": "markdown",
   "id": "4a3d9bb2",
   "metadata": {},
   "source": [
    "## 📌 Citation & Metadata\n",
    "\n",
    "If using or extending this work, cite the corresponding author:\n",
    "\n",
    "> **Agourakis, D.** (2025). _Symbolic Manifolds and Entropic Dynamics: A Cognitive Topology of Mental States._  \n",
    "> GitHub: [agourakis82](https://github.com/agourakis82)  \n",
    "> Zenodo DOI: `10.5281/zenodo.XXXXXXX` *(to be completed)*\n",
    "\n",
    "---\n",
    "MIT License | CC-BY 4.0\n"
   ]
  },
  {
   "cell_type": "code",
   "execution_count": null,
   "id": "b650e20f",
   "metadata": {},
   "outputs": [],
   "source": [
    "!pip list | grep -E 'pandas|numpy|networkx|node2vec|umap|sklearn|seaborn|matplotlib'"
   ]
  }
 ],
 "metadata": {},
 "nbformat": 4,
 "nbformat_minor": 5
}
