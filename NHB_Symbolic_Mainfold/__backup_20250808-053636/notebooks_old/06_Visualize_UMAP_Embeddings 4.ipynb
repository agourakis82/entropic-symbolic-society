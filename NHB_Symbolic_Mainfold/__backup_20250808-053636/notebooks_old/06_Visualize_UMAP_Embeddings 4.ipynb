{
 "cells": [
  {
   "cell_type": "code",
   "execution_count": 1,
   "id": "cbcf06be",
   "metadata": {},
   "outputs": [],
   "source": [
    "# 0. Imports e configuração de paths\n",
    "import pandas as pd, numpy as np, umap\n",
    "from sklearn.cluster import KMeans\n",
    "from pathlib import Path, PurePath\n",
    "import matplotlib.pyplot as plt, seaborn as sns, json, os"
   ]
  },
  {
   "cell_type": "code",
   "execution_count": 2,
   "id": "512f1662",
   "metadata": {},
   "outputs": [],
   "source": [
    "# Ajuste o caminho raiz do repositório se necessário\n",
    "ROOT = Path().resolve()  # assume que o notebook vive na raiz ou em notebooks/\n",
    "DATA = ROOT / 'data'\n",
    "DATA.mkdir(exist_ok=True)"
   ]
  },
  {
   "cell_type": "code",
   "execution_count": 3,
   "id": "e10b1c03",
   "metadata": {},
   "outputs": [
    {
     "ename": "AssertionError",
     "evalue": "Arquivo não encontrado: /Users/demetriosagourakis/Library/Mobile Documents/com~apple~CloudDocs/Biologia Fractal/entropic-symbolic-society/NHB_Symbolic_Mainfold/notebook/data/symbolic_metrics_embeddings.csv",
     "output_type": "error",
     "traceback": [
      "\u001b[31m---------------------------------------------------------------------------\u001b[39m",
      "\u001b[31mAssertionError\u001b[39m                            Traceback (most recent call last)",
      "\u001b[36mCell\u001b[39m\u001b[36m \u001b[39m\u001b[32mIn[3]\u001b[39m\u001b[32m, line 2\u001b[39m\n\u001b[32m      1\u001b[39m EMB_CSV = DATA / \u001b[33m'\u001b[39m\u001b[33msymbolic_metrics_embeddings.csv\u001b[39m\u001b[33m'\u001b[39m\n\u001b[32m----> \u001b[39m\u001b[32m2\u001b[39m \u001b[38;5;28;01massert\u001b[39;00m EMB_CSV.exists(), \u001b[33mf\u001b[39m\u001b[33m'\u001b[39m\u001b[33mArquivo não encontrado: \u001b[39m\u001b[38;5;132;01m{\u001b[39;00mEMB_CSV\u001b[38;5;132;01m}\u001b[39;00m\u001b[33m'\u001b[39m\n",
      "\u001b[31mAssertionError\u001b[39m: Arquivo não encontrado: /Users/demetriosagourakis/Library/Mobile Documents/com~apple~CloudDocs/Biologia Fractal/entropic-symbolic-society/NHB_Symbolic_Mainfold/notebook/data/symbolic_metrics_embeddings.csv"
     ]
    }
   ],
   "source": [
    "EMB_CSV = DATA / 'symbolic_metrics_embeddings.csv'\n",
    "assert EMB_CSV.exists(), f'Arquivo não encontrado: {EMB_CSV}'"
   ]
  },
  {
   "cell_type": "code",
   "execution_count": null,
   "id": "75cfce28",
   "metadata": {},
   "outputs": [],
   "source": [
    "df = pd.read_csv(EMB_CSV)\n",
    "print('Loaded', df.shape, 'rows')"
   ]
  },
  {
   "cell_type": "code",
   "execution_count": null,
   "id": "06763e0e",
   "metadata": {},
   "outputs": [],
   "source": [
    "# 1. Seleciona coluna(s) de embeddings\n",
    "embedding_cols = [c for c in df.columns if c.startswith('emb_') or c.startswith('dim_')]\n",
    "assert len(embedding_cols) > 2, 'Não foram encontradas colunas de embedding suficientes.'\n",
    "X = df[embedding_cols].values.astype('float32')\n",
    "print('Embedding matrix shape:', X.shape)"
   ]
  },
  {
   "cell_type": "code",
   "execution_count": null,
   "id": "a022f564",
   "metadata": {},
   "outputs": [],
   "source": [
    "reducer = umap.UMAP(n_neighbors=30, min_dist=0.1, metric='cosine', random_state=42)\n",
    "X_umap = reducer.fit_transform(X)\n",
    "print('UMAP shape:', X_umap.shape)"
   ]
  },
  {
   "cell_type": "code",
   "execution_count": null,
   "id": "3de8fcbd",
   "metadata": {},
   "outputs": [],
   "source": [
    "# Salva array\n",
    "np.save(DATA / 'X_umap.npy', X_umap)\n",
    "print('Saved X_umap.npy')"
   ]
  },
  {
   "cell_type": "code",
   "execution_count": null,
   "id": "241311f7",
   "metadata": {},
   "outputs": [],
   "source": [
    "n_clusters = 8  # ajuste conforme análise de silhueta ou conforme notebook 05\n",
    "kmeans = KMeans(n_clusters=n_clusters, random_state=42, n_init='auto')\n",
    "labels = kmeans.fit_predict(X_umap)\n",
    "df['label'] = labels\n",
    "np.savetxt(DATA / 'labels.csv', labels, delimiter=',', fmt='%d')\n",
    "print('Saved labels.csv')"
   ]
  },
  {
   "cell_type": "code",
   "execution_count": null,
   "id": "b506b506",
   "metadata": {},
   "outputs": [],
   "source": [
    "df[['x_umap', 'y_umap']] = X_umap\n",
    "consolidated_path = DATA / 'symbolic_umap_dataframe.csv'\n",
    "df.to_csv(consolidated_path, index=False)\n",
    "print('Consolidated DataFrame saved to', consolidated_path)"
   ]
  },
  {
   "cell_type": "code",
   "execution_count": null,
   "id": "61ca0ac3",
   "metadata": {},
   "outputs": [],
   "source": [
    "sns.set(style='white', rc={'figure.figsize':(8,6)})\n",
    "sns.scatterplot(x='x_umap', y='y_umap', hue='label', data=df, palette='tab10', s=25, linewidth=0)\n",
    "plt.title('UMAP projection with K‑Means labels')\n",
    "plt.axis('equal')\n",
    "plt.show()"
   ]
  },
  {
   "cell_type": "code",
   "execution_count": null,
   "id": "1ee9738f",
   "metadata": {},
   "outputs": [],
   "source": [
    "params = {\n",
    "    'umap': {'n_neighbors': 30, 'min_dist': 0.1, 'metric': 'cosine'},\n",
    "    'kmeans': {'n_clusters': int(n_clusters), 'random_state': 42}\n",
    "}\n",
    "with open(DATA / 'umap_kmeans_params.json', 'w') as f:\n",
    "    json.dump(params, f, indent=2)\n",
    "print('Saved umap_kmeans_params.json')"
   ]
  }
 ],
 "metadata": {
  "kernelspec": {
   "display_name": "Python 3 (ipykernel)",
   "language": "python",
   "name": "python3"
  },
  "language_info": {
   "codemirror_mode": {
    "name": "ipython",
    "version": 3
   },
   "file_extension": ".py",
   "mimetype": "text/x-python",
   "name": "python",
   "nbconvert_exporter": "python",
   "pygments_lexer": "ipython3",
   "version": "3.11.13"
  }
 },
 "nbformat": 4,
 "nbformat_minor": 5
}
