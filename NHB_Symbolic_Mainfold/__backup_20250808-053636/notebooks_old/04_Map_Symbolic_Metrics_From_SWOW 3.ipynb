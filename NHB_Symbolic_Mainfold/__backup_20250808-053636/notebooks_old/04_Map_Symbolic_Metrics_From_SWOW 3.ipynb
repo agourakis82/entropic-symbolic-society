{
 "cells": [
  {
   "cell_type": "markdown",
   "id": "b89b1908",
   "metadata": {},
   "source": [
    "# 🧠 Notebook 04 – Mapping Symbolic Metrics from SWOW\n",
    "\n",
    "This notebook extracts empirical symbolic metrics from the SWOW graph, computes node-level statistics (degree, centrality, clustering), and builds a DataFrame aligned with the symbolic manifold axes: anchoring, curvature, and entropy."
   ]
  },
  {
   "cell_type": "code",
   "execution_count": null,
   "id": "910d058c",
   "metadata": {},
   "outputs": [],
   "source": [
    "import pandas as pd\n",
    "import networkx as nx\n",
    "from pathlib import Path\n",
    "\n",
    "# Load the SWOW graph\n",
    "path = Path(\"/Users/demetriosagourakis/Library/Mobile Documents/com~apple~CloudDocs/Biologia Fractal/entropic-symbolic-society/NHB_Symbolic_Mainfold/data/swow_graph.gpickle\")\n",
    "G = nx.read_gpickle(path)\n",
    "print(f\"Graph loaded: {G.number_of_nodes()} nodes, {G.number_of_edges()} edges\")"
   ]
  },
  {
   "cell_type": "markdown",
   "id": "884510b1",
   "metadata": {},
   "source": [
    "### 🔢 Compute centrality and clustering metrics\n",
    "These are used as proxies for symbolic manifold axes."
   ]
  },
  {
   "cell_type": "code",
   "execution_count": null,
   "id": "f4afc497",
   "metadata": {},
   "outputs": [],
   "source": [
    "# Anchoring: closeness centrality\n",
    "# Curvature: clustering coefficient (local divergence)\n",
    "# Entropy: degree variability (connectivity diversity)\n",
    "\n",
    "centrality = nx.closeness_centrality(G)\n",
    "clustering = nx.clustering(G)\n",
    "degree = dict(G.degree())"
   ]
  },
  {
   "cell_type": "markdown",
   "id": "a9de9621",
   "metadata": {},
   "source": [
    "### 📊 Create symbolic metrics DataFrame\n",
    "Each row corresponds to a word/node with its symbolic coordinates."
   ]
  },
  {
   "cell_type": "code",
   "execution_count": null,
   "id": "1f827f32",
   "metadata": {},
   "outputs": [],
   "source": [
    "import pandas as pd\n",
    "df_metrics = pd.DataFrame({\n",
    "    \"word\": list(centrality.keys()),\n",
    "    \"anchoring_alpha\": [centrality[n] for n in centrality],\n",
    "    \"curvature_kappa\": [clustering[n] for n in clustering],\n",
    "    \"entropy_Er\": [degree[n] for n in degree],\n",
    "})\n",
    "\n",
    "df_metrics.sort_values(\"anchoring_alpha\", ascending=False).head()\n",
    "df_metrics.to_csv(\"/Users/demetriosagourakis/Library/Mobile Documents/com~apple~CloudDocs/Biologia Fractal/entropic-symbolic-society/NHB_Symbolic_Mainfold/data/symbolic_metrics_embeddings.csv\", index=False)"
   ]
  },
  {
   "cell_type": "code",
   "execution_count": null,
   "id": "ddcf5a9e-5df6-4566-9183-a7d38f6747b5",
   "metadata": {},
   "outputs": [],
   "source": []
  },
  {
   "cell_type": "code",
   "execution_count": null,
   "id": "03a4246e-c054-4b83-934f-ebe96bfe9026",
   "metadata": {},
   "outputs": [],
   "source": []
  },
  {
   "cell_type": "code",
   "execution_count": null,
   "id": "6c9368b4-1c07-4f43-88ec-51604c6b7d71",
   "metadata": {},
   "outputs": [],
   "source": []
  },
  {
   "cell_type": "code",
   "execution_count": null,
   "id": "84f36c8a-ab16-49d4-9064-19c1e34befa7",
   "metadata": {},
   "outputs": [],
   "source": []
  }
 ],
 "metadata": {
  "kernelspec": {
   "display_name": "Python 3 (ipykernel)",
   "language": "python",
   "name": "python3"
  },
  "language_info": {
   "codemirror_mode": {
    "name": "ipython",
    "version": 3
   },
   "file_extension": ".py",
   "mimetype": "text/x-python",
   "name": "python",
   "nbconvert_exporter": "python",
   "pygments_lexer": "ipython3",
   "version": "3.11.13"
  }
 },
 "nbformat": 4,
 "nbformat_minor": 5
}
